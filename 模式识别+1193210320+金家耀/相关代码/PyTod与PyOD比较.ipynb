{
 "cells": [
  {
   "cell_type": "code",
   "execution_count": 1,
   "outputs": [],
   "source": [
    "from pyod.utils import generate_data\n",
    "from pytod.models.abod import ABOD\n",
    "from pytod.models.ecod import ECOD\n",
    "from pytod.models.hbos import HBOS\n",
    "from pytod.models.knn import KNN\n",
    "from pytod.models.lof import LOF\n",
    "from pytod.models.pca import PCA\n",
    "from pyod.models.abod import ABOD as ABOD_PyOD\n",
    "from pyod.models.ecod import ECOD as ECOD_PyOD\n",
    "from pyod.models.hbos import HBOS as HBOS_PyOD\n",
    "from pyod.models.knn import KNN as KNN_PyOD\n",
    "from pyod.models.lof import LOF as LOF_PyOD\n",
    "from pyod.models.pca import PCA as PCA_PyOD\n",
    "import time, os, torch, sys\n",
    "from matplotlib import pyplot as plt\n",
    "from pytod.utils.utility import validate_device\n",
    "\n",
    "plt.rcParams['font.sans-serif'] = ['SimHei']  # 用来正常显示中文标签\n",
    "plt.rcParams['axes.unicode_minus'] = False  # 用来正常显示负号"
   ],
   "metadata": {
    "collapsed": false
   }
  },
  {
   "cell_type": "code",
   "execution_count": 2,
   "outputs": [],
   "source": [
    "pyod_times = []\n",
    "pytod_times = []"
   ],
   "metadata": {
    "collapsed": false
   }
  },
  {
   "cell_type": "markdown",
   "source": [
    "# ABOD"
   ],
   "metadata": {
    "collapsed": false
   }
  },
  {
   "cell_type": "code",
   "execution_count": 3,
   "metadata": {
    "collapsed": true
   },
   "outputs": [
    {
     "name": "stdout",
     "output_type": "stream",
     "text": [
      "PyOD execution time 3.3375329971313477\n",
      "TOD execution time 0.8804013729095459\n",
      "TOD is 3.79 times faster than PyOD\n"
     ]
    }
   ],
   "source": [
    "\n",
    "\n",
    "contamination = 0.1  # percentage of outliers\n",
    "n_train = 10000  # number of training points\n",
    "n_test = 5000  # number of testing points\n",
    "n_features = 20\n",
    "k = 10\n",
    "\n",
    "# Generate sample data\n",
    "X_train, X_test, y_train, y_test = \\\n",
    "    generate_data(n_train=n_train,\n",
    "                  n_test=n_test,\n",
    "                  n_features=n_features,\n",
    "                  contamination=contamination,\n",
    "                  random_state=42)\n",
    "\n",
    "clf_name = 'ABOD-PyOD'\n",
    "clf = ABOD_PyOD(n_neighbors=k)\n",
    "start = time.time()\n",
    "clf.fit(X_train)\n",
    "end = time.time()\n",
    "pyod_time = end - start\n",
    "print('PyOD execution time', pyod_time)\n",
    "\n",
    "X_train, y_train, X_test, y_test = torch.from_numpy(X_train), \\\n",
    "                                   torch.from_numpy(y_train), \\\n",
    "                                   torch.from_numpy(X_test), \\\n",
    "                                   torch.from_numpy(y_test)\n",
    "\n",
    "\n",
    "# try to access the GPU, fall back to cpu if no gpu is available\n",
    "device = validate_device(0)\n",
    "# device = 'cpu'\n",
    "clf = ABOD(n_neighbors=k, batch_size=10000, device=device)\n",
    "# clf = ABOD(n_neighbors=k, batch_size=None, device=device)\n",
    "start = time.time()\n",
    "clf.fit(X_train)\n",
    "end = time.time()\n",
    "tod_time = end - start\n",
    "print('TOD execution time', tod_time)\n",
    "\n",
    "print('TOD is', round(pyod_time / tod_time, ndigits=2),\n",
    "      'times faster than PyOD')\n",
    "\n",
    "pyod_times.append(pyod_time)\n",
    "pytod_times.append(tod_time)"
   ]
  },
  {
   "cell_type": "markdown",
   "source": [
    "# HBOS"
   ],
   "metadata": {
    "collapsed": false
   }
  },
  {
   "cell_type": "code",
   "execution_count": 4,
   "outputs": [
    {
     "name": "stdout",
     "output_type": "stream",
     "text": [
      "PyOD execution time 3.3375329971313477\n"
     ]
    },
    {
     "name": "stderr",
     "output_type": "stream",
     "text": [
      "E:\\jjy\\class\\2023-2024 1\\模式识别\\模式识别+1193210320+金家耀\\相关代码\\pytod\\models\\hbos.py:118: UserWarning: torch.searchsorted(): input value tensor is non-contiguous, this will lower the performance due to extra data copy when converting non-contiguous tensor to contiguous, please use contiguous input value tensor if possible. This message will only appear once per program. (Triggered internally at  C:/actions-runner/_work/pytorch/pytorch/builder/windows/pytorch/aten/src\\ATen/native/BucketizationUtils.h:35.)\n",
      "  bin_inds = torch.bucketize(X[:, i], bin_edges[:, i])\n",
      "E:\\jjy\\class\\2023-2024 1\\模式识别\\模式识别+1193210320+金家耀\\相关代码\\pytod\\models\\hbos.py:118: UserWarning: torch.searchsorted(): boundary tensor is non-contiguous, this will lower the performance due to extra data copy when converting non-contiguous tensor to contiguous, please use contiguous boundary tensor if possible. This message will only appear once per program. (Triggered internally at  C:/actions-runner/_work/pytorch/pytorch/builder/windows/pytorch/aten/src\\ATen/native/BucketizationUtils.h:41.)\n",
      "  bin_inds = torch.bucketize(X[:, i], bin_edges[:, i])\n"
     ]
    },
    {
     "name": "stdout",
     "output_type": "stream",
     "text": [
      "TOD execution time 5.612387180328369\n",
      "TOD is 0.59 times faster than PyOD\n"
     ]
    }
   ],
   "source": [
    "contamination = 0.1  # percentage of outliers\n",
    "n_train = 500000  # number of training points\n",
    "n_test = 5000  # number of testing points\n",
    "n_features = 1000\n",
    "k = 10\n",
    "\n",
    "# Generate sample data\n",
    "X_train, X_test, y_train, y_test = \\\n",
    "    generate_data(n_train=n_train,\n",
    "                  n_test=n_test,\n",
    "                  n_features=n_features,\n",
    "                  contamination=contamination,\n",
    "                  random_state=42)\n",
    "\n",
    "clf = HBOS_PyOD()\n",
    "start = time.time()\n",
    "clf.fit(X_train)\n",
    "end = time.time()\n",
    "\n",
    "print('PyOD execution time', pyod_time)\n",
    "\n",
    "X_train, y_train, X_test, y_test = torch.from_numpy(X_train), \\\n",
    "                                   torch.from_numpy(y_train), \\\n",
    "                                   torch.from_numpy(X_test), \\\n",
    "                                   torch.from_numpy(y_test)\n",
    "\n",
    "# try to access the GPU, fall back to cpu if no gpu is available\n",
    "device = validate_device(0)\n",
    "\n",
    "clf = HBOS(device=device)\n",
    "# clf = HBOS(n_neighbors=k, batch_size=None, device=device)\n",
    "start = time.time()\n",
    "clf.fit(X_train)\n",
    "end = time.time()\n",
    "tod_time = end - start\n",
    "print('TOD execution time', tod_time)\n",
    "\n",
    "print('TOD is', round(pyod_time / tod_time, ndigits=2),\n",
    "      'times faster than PyOD')\n",
    "\n",
    "pyod_times.append(pyod_time)\n",
    "pytod_times.append(tod_time)"
   ],
   "metadata": {
    "collapsed": false
   }
  },
  {
   "cell_type": "markdown",
   "source": [
    "# KNN"
   ],
   "metadata": {
    "collapsed": false
   }
  },
  {
   "cell_type": "code",
   "execution_count": 5,
   "outputs": [
    {
     "name": "stdout",
     "output_type": "stream",
     "text": [
      "Execution time 0.5578041076660156\n",
      "Total number of batches 9\n",
      "Execution time 2.7964813709259033\n",
      "TOD is 0.2 times faster than PyOD\n"
     ]
    }
   ],
   "source": [
    "contamination = 0.1  # percentage of outliers\n",
    "n_train = 30000  # number of training points\n",
    "n_test = 5000  # number of testing points\n",
    "n_features = 20\n",
    "k = 10\n",
    "\n",
    "# Generate sample data\n",
    "X_train, X_test, y_train, y_test = \\\n",
    "    generate_data(n_train=n_train,\n",
    "                  n_test=n_test,\n",
    "                  n_features=n_features,\n",
    "                  contamination=contamination,\n",
    "                  random_state=42)\n",
    "\n",
    "clf = KNN_PyOD(n_neighbors=k)\n",
    "start = time.time()\n",
    "clf.fit(X_train)\n",
    "end = time.time()\n",
    "pyod_time = end - start\n",
    "print('Execution time', end - start)\n",
    "\n",
    "X_train, y_train, X_test, y_test = torch.from_numpy(X_train), \\\n",
    "                                   torch.from_numpy(y_train), \\\n",
    "                                   torch.from_numpy(X_test), \\\n",
    "                                   torch.from_numpy(y_test)\n",
    "\n",
    "\n",
    "# try to access the GPU, fall back to cpu if no gpu is available\n",
    "device = validate_device(0)\n",
    "# clf = KNN(n_neighbors=k, batch_size=10000, device=device)\n",
    "clf = KNN(n_neighbors=k, batch_size=10000, device=device)\n",
    "start = time.time()\n",
    "clf.fit(X_train)\n",
    "end = time.time()\n",
    "tod_time = end - start\n",
    "print('Execution time', end - start)\n",
    "\n",
    "print('TOD is', round(pyod_time / tod_time, ndigits=2),\n",
    "      'times faster than PyOD')\n",
    "\n",
    "pyod_times.append(pyod_time)\n",
    "pytod_times.append(tod_time)"
   ],
   "metadata": {
    "collapsed": false
   }
  },
  {
   "cell_type": "markdown",
   "source": [
    "# LOF"
   ],
   "metadata": {
    "collapsed": false
   }
  },
  {
   "cell_type": "code",
   "execution_count": 6,
   "outputs": [
    {
     "name": "stdout",
     "output_type": "stream",
     "text": [
      "PyOD execution time 0.5156254768371582\n",
      "\n",
      "\n",
      "Total number of batches 9\n",
      "TOD execution time 1.0053284168243408\n",
      "TOD is 0.51 times faster than PyOD\n"
     ]
    }
   ],
   "source": [
    "contamination = 0.1  # percentage of outliers\n",
    "n_train = 30000  # number of training points\n",
    "n_test = 5000  # number of testing points\n",
    "n_features = 20\n",
    "k = 10\n",
    "\n",
    "# Generate sample data\n",
    "X_train, X_test, y_train, y_test = \\\n",
    "    generate_data(n_train=n_train,\n",
    "                  n_test=n_test,\n",
    "                  n_features=n_features,\n",
    "                  contamination=contamination,\n",
    "                  random_state=42)\n",
    "\n",
    "clf = LOF_PyOD(n_neighbors=k)\n",
    "start = time.time()\n",
    "clf.fit(X_train)\n",
    "end = time.time()\n",
    "pyod_time = end - start\n",
    "print('PyOD execution time', pyod_time)\n",
    "\n",
    "X_train, y_train, X_test, y_test = torch.from_numpy(X_train), \\\n",
    "                                   torch.from_numpy(y_train), \\\n",
    "                                   torch.from_numpy(X_test), \\\n",
    "                                   torch.from_numpy(y_test)\n",
    "\n",
    "print()\n",
    "print()\n",
    "# try to access the GPU, fall back to cpu if no gpu is available\n",
    "device = validate_device(0)\n",
    "\n",
    "clf = LOF(n_neighbors=k, batch_size=10000, device=device)\n",
    "# clf = LOF(n_neighbors=k, batch_size=None, device=device)\n",
    "start = time.time()\n",
    "clf.fit(X_train)\n",
    "end = time.time()\n",
    "tod_time = end - start\n",
    "print('TOD execution time', tod_time)\n",
    "\n",
    "print('TOD is', round(pyod_time / tod_time, ndigits=2),\n",
    "      'times faster than PyOD')\n",
    "\n",
    "\n",
    "pyod_times.append(pyod_time)\n",
    "pytod_times.append(tod_time)"
   ],
   "metadata": {
    "collapsed": false
   }
  },
  {
   "cell_type": "markdown",
   "source": [
    "# PCA"
   ],
   "metadata": {
    "collapsed": false
   }
  },
  {
   "cell_type": "code",
   "execution_count": 7,
   "outputs": [
    {
     "name": "stdout",
     "output_type": "stream",
     "text": [
      "PyOD execution time 8.602738380432129\n",
      "TOD execution time 1.7770330905914307\n",
      "TOD is 4.84 times faster than PyOD\n"
     ]
    }
   ],
   "source": [
    "contamination = 0.1  # percentage of outliers\n",
    "n_train = 1000000  # number of training points\n",
    "n_test = 5000  # number of testing points\n",
    "n_features = 200\n",
    "k = 10\n",
    "\n",
    "# Generate sample data\n",
    "X_train, X_test, y_train, y_test = \\\n",
    "    generate_data(n_train=n_train,\n",
    "                  n_test=n_test,\n",
    "                  n_features=n_features,\n",
    "                  contamination=contamination,\n",
    "                  random_state=42)\n",
    "\n",
    "clf = PCA_PyOD(n_components=5)\n",
    "start = time.time()\n",
    "clf.fit(X_train)\n",
    "end = time.time()\n",
    "pyod_time = end - start\n",
    "print('PyOD execution time', pyod_time)\n",
    "\n",
    "X_train, y_train, X_test, y_test = torch.from_numpy(X_train), \\\n",
    "                                   torch.from_numpy(y_train), \\\n",
    "                                   torch.from_numpy(X_test), \\\n",
    "                                   torch.from_numpy(y_test)\n",
    "\n",
    "# try to access the GPU, fall back to cpu if no gpu is available\n",
    "device = validate_device(0)\n",
    "\n",
    "clf = PCA(n_components=k, device=device)\n",
    "# clf = PCA(n_neighbors=k, batch_size=None, device=device)\n",
    "start = time.time()\n",
    "clf.fit(X_train)\n",
    "end = time.time()\n",
    "tod_time = end - start\n",
    "print('TOD execution time', tod_time)\n",
    "\n",
    "print('TOD is', round(pyod_time / tod_time, ndigits=2),\n",
    "      'times faster than PyOD')\n",
    "\n",
    "pyod_times.append(pyod_time)\n",
    "pytod_times.append(tod_time)"
   ],
   "metadata": {
    "collapsed": false
   }
  },
  {
   "cell_type": "markdown",
   "source": [
    "# ECOD"
   ],
   "metadata": {
    "collapsed": false
   }
  },
  {
   "cell_type": "code",
   "execution_count": 8,
   "outputs": [
    {
     "name": "stdout",
     "output_type": "stream",
     "text": [
      "PyOD execution time 15.597042560577393\n",
      "TOD execution time 0.8693544864654541\n",
      "TOD is 17.94 times faster than PyOD\n"
     ]
    }
   ],
   "source": [
    "contamination = 0.1  # percentage of outliers\n",
    "n_train = 10000  # number of training points\n",
    "n_test = 5000  # number of testing points\n",
    "n_features = 5000\n",
    "k = 10\n",
    "\n",
    "# Generate sample data\n",
    "X_train, X_test, y_train, y_test = \\\n",
    "    generate_data(n_train=n_train,\n",
    "                  n_test=n_test,\n",
    "                  n_features=n_features,\n",
    "                  contamination=contamination,\n",
    "                  random_state=42)\n",
    "\n",
    "clf = ECOD_PyOD()\n",
    "start = time.time()\n",
    "clf.fit(X_train)\n",
    "end = time.time()\n",
    "\n",
    "pyod_time = end - start\n",
    "print('PyOD execution time', pyod_time)\n",
    "\n",
    "X_train, y_train, X_test, y_test = torch.from_numpy(X_train), \\\n",
    "                                   torch.from_numpy(y_train), \\\n",
    "                                   torch.from_numpy(X_test), \\\n",
    "                                   torch.from_numpy(y_test)\n",
    "\n",
    "# try to access the GPU, fall back to cpu if no gpu is available\n",
    "device = validate_device(0)\n",
    "# device = 'cpu'\n",
    "clf = ECOD(device=device)\n",
    "start = time.time()\n",
    "clf.fit(X_train)\n",
    "end = time.time()\n",
    "\n",
    "tod_time = end - start\n",
    "print('TOD execution time', tod_time)\n",
    "\n",
    "print('TOD is', round(pyod_time / tod_time, ndigits=2),\n",
    "      'times faster than PyOD')\n",
    "\n",
    "pyod_times.append(pyod_time)\n",
    "pytod_times.append(tod_time)"
   ],
   "metadata": {
    "collapsed": false
   }
  },
  {
   "cell_type": "code",
   "execution_count": 15,
   "outputs": [
    {
     "data": {
      "text/plain": "<Figure size 1200x600 with 1 Axes>",
      "image/png": "[encoded data removed]"
     },
     "metadata": {},
     "output_type": "display_data"
    }
   ],
   "source": [
    "import matplotlib.pyplot as plt\n",
    "import numpy as np\n",
    "\n",
    "algorithms = ['ABOD', 'HBOS', 'KNN', 'LOF', 'PCA', 'ECOD', 'Average']\n",
    "pyod_average = np.mean(pyod_times)\n",
    "pyod_times.append(pyod_average)\n",
    "\n",
    "tod_average = np.mean(pytod_times)\n",
    "pytod_times.append(tod_average)\n",
    "\n",
    "bar_width = 0.35\n",
    "bar_positions_pyod = np.arange(len(algorithms))\n",
    "bar_positions_tod = bar_positions_pyod + bar_width\n",
    "\n",
    "plt.figure(figsize=(12, 6))\n",
    "\n",
    "# Plotting PyOD execution times as bars\n",
    "pyod_bars = plt.bar(bar_positions_pyod, pyod_times, width=bar_width, label='PyOD', color='#3F51B5', edgecolor='black', linewidth=1)\n",
    "\n",
    "# Plotting TOD execution times as bars\n",
    "tod_bars = plt.bar(bar_positions_tod, pytod_times, width=bar_width, label='TOD', color='#009688', edgecolor='black', linewidth=1)\n",
    "\n",
    "# Annotating PyOD bars with values\n",
    "for bar in pyod_bars:\n",
    "    yval = bar.get_height()\n",
    "    plt.text(bar.get_x() + bar.get_width()/2 + 0.05, yval + 1, f'{yval:.2f} s', ha='center', va='bottom', color='#3F51B5', fontweight='bold')\n",
    "\n",
    "# Annotating TOD bars with values\n",
    "for bar in tod_bars:\n",
    "    yval = bar.get_height()\n",
    "    plt.text(bar.get_x() + bar.get_width()/2 + 0.05, yval + 1, f'{yval:.2f} s', ha='center', va='bottom', color='#009688', fontweight='bold')\n",
    "\n",
    "plt.xlabel('算法')\n",
    "plt.ylabel('执行时间 (s)')\n",
    "plt.title('PyOD和TOD在不同算法上的执行时间比较')\n",
    "plt.legend()\n",
    "\n",
    "plt.xticks(bar_positions_pyod + bar_width / 2, algorithms)\n",
    "plt.grid(axis='y', linestyle='--', alpha=0.7)\n",
    "plt.gca().spines['top'].set_visible(False)\n",
    "plt.gca().spines['right'].set_visible(False)\n",
    "\n",
    "plt.show()\n"
   ],
   "metadata": {
    "collapsed": false
   }
  },
  {
   "cell_type": "code",
   "execution_count": 9,
   "outputs": [],
   "source": [],
   "metadata": {
    "collapsed": false
   }
  }
 ],
 "metadata": {
  "kernelspec": {
   "display_name": "Python 3",
   "language": "python",
   "name": "python3"
  },
  "language_info": {
   "codemirror_mode": {
    "name": "ipython",
    "version": 2
   },
   "file_extension": ".py",
   "mimetype": "text/x-python",
   "name": "python",
   "nbconvert_exporter": "python",
   "pygments_lexer": "ipython2",
   "version": "2.7.6"
  }
 },
 "nbformat": 4,
 "nbformat_minor": 0
}
